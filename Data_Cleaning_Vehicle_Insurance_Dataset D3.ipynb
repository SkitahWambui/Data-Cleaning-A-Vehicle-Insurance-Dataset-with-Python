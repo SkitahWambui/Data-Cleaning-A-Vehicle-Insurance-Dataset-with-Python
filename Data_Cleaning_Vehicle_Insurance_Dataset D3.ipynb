{
 "cells": [
  {
   "cell_type": "markdown",
   "id": "293c7df6-94b0-4a91-8ae0-6a7d841d1b03",
   "metadata": {},
   "source": [
    "## DATA CLEANING A VEHICLE INSURANCE DATASET"
   ]
  },
  {
   "cell_type": "markdown",
   "id": "b3388c60-73ad-4743-a0cb-b7ce4705efc7",
   "metadata": {},
   "source": [
    "### 1. Introduction\n",
    "I wanted to do some EDA and hypothesis testing with this dataset using R, but came to realise the dataset is very messy. I attempted to clean it using R, but one month down the line I was going in circles, so I attempted doing the cleaning with Python and it was mostly a success, at least it didn't make me want to cry that much.\r\n",
    "\r\n",
    "So here's my attempt at cleaning the dataset, any feedback is welco.s."
   ]
  },
  {
   "cell_type": "markdown",
   "id": "22979954-fbf9-4239-bb4c-76f4993c594c",
   "metadata": {},
   "source": [
    "## 2. Importing libraries and the datasets"
   ]
  },
  {
   "cell_type": "code",
   "execution_count": 1,
   "id": "e665b844-4187-422d-b5b9-f0eccb5273df",
   "metadata": {},
   "outputs": [],
   "source": [
    "# import libraries\n",
    "import pandas as pd\n",
    "import numpy as np\n",
    "import matplotlib.pyplot as plt\n",
    "import seaborn as sns"
   ]
  },
  {
   "cell_type": "code",
   "execution_count": 2,
   "id": "9e00feda-132c-4c6c-91d4-053b1c822533",
   "metadata": {},
   "outputs": [],
   "source": [
    "# import files\n",
    "vdf1 = pd.read_csv(\"C:\\\\Users\\\\Skitah Wambui\\\\OneDrive\\\\Desktop\\\\motor_data11-14lats.CSV\")\n",
    "vdf2 = pd.read_csv(\"C:\\\\Users\\\\Skitah Wambui\\\\OneDrive\\\\Desktop\\\\motor_data14-2018.CSV\")"
   ]
  },
  {
   "cell_type": "code",
   "execution_count": 3,
   "id": "8d2b273f-9f0f-4501-bbb3-a4eed1a87612",
   "metadata": {},
   "outputs": [],
   "source": [
    "# join the two datasets\n",
    "frames = [vdf1, vdf2]\n",
    "vdf = pd.concat(frames)"
   ]
  },
  {
   "cell_type": "code",
   "execution_count": 35,
   "id": "2b0ffab3-9961-44c9-bf13-c267f0994b3c",
   "metadata": {},
   "outputs": [],
   "source": [
    "# convert the data to a dataframe\n",
    "vdf = pd.DataFrame(vdf)"
   ]
  },
  {
   "cell_type": "code",
   "execution_count": 7,
   "id": "288510dd-ab42-4174-a8d8-3cd51d20f8f2",
   "metadata": {},
   "outputs": [
    {
     "data": {
      "text/plain": [
       "(802036, 16)"
      ]
     },
     "execution_count": 7,
     "metadata": {},
     "output_type": "execute_result"
    }
   ],
   "source": [
    "# check the shape of the dataframe\n",
    "vdf.shape"
   ]
  },
  {
   "cell_type": "code",
   "execution_count": 8,
   "id": "1b317698-4f2c-4382-ace1-760f8e207674",
   "metadata": {},
   "outputs": [
    {
     "data": {
      "text/html": [
       "<div>\n",
       "<style scoped>\n",
       "    .dataframe tbody tr th:only-of-type {\n",
       "        vertical-align: middle;\n",
       "    }\n",
       "\n",
       "    .dataframe tbody tr th {\n",
       "        vertical-align: top;\n",
       "    }\n",
       "\n",
       "    .dataframe thead th {\n",
       "        text-align: right;\n",
       "    }\n",
       "</style>\n",
       "<table border=\"1\" class=\"dataframe\">\n",
       "  <thead>\n",
       "    <tr style=\"text-align: right;\">\n",
       "      <th></th>\n",
       "      <th>SEX</th>\n",
       "      <th>INSR_BEGIN</th>\n",
       "      <th>INSR_END</th>\n",
       "      <th>EFFECTIVE_YR</th>\n",
       "      <th>INSR_TYPE</th>\n",
       "      <th>INSURED_VALUE</th>\n",
       "      <th>PREMIUM</th>\n",
       "      <th>OBJECT_ID</th>\n",
       "      <th>PROD_YEAR</th>\n",
       "      <th>SEATS_NUM</th>\n",
       "      <th>CARRYING_CAPACITY</th>\n",
       "      <th>TYPE_VEHICLE</th>\n",
       "      <th>CCM_TON</th>\n",
       "      <th>MAKE</th>\n",
       "      <th>USAGE</th>\n",
       "      <th>CLAIM_PAID</th>\n",
       "    </tr>\n",
       "  </thead>\n",
       "  <tbody>\n",
       "    <tr>\n",
       "      <th>0</th>\n",
       "      <td>0</td>\n",
       "      <td>08-AUG-13</td>\n",
       "      <td>07-AUG-14</td>\n",
       "      <td>08</td>\n",
       "      <td>1202</td>\n",
       "      <td>519755.22</td>\n",
       "      <td>7209.140</td>\n",
       "      <td>5000029885</td>\n",
       "      <td>2007.0</td>\n",
       "      <td>4.0</td>\n",
       "      <td>6.0</td>\n",
       "      <td>Pick-up</td>\n",
       "      <td>3153.0</td>\n",
       "      <td>NISSAN</td>\n",
       "      <td>Own Goods</td>\n",
       "      <td>NaN</td>\n",
       "    </tr>\n",
       "    <tr>\n",
       "      <th>1</th>\n",
       "      <td>0</td>\n",
       "      <td>08-AUG-12</td>\n",
       "      <td>07-AUG-13</td>\n",
       "      <td>08</td>\n",
       "      <td>1202</td>\n",
       "      <td>519755.22</td>\n",
       "      <td>7203.890</td>\n",
       "      <td>5000029885</td>\n",
       "      <td>2007.0</td>\n",
       "      <td>4.0</td>\n",
       "      <td>6.0</td>\n",
       "      <td>Pick-up</td>\n",
       "      <td>3153.0</td>\n",
       "      <td>NISSAN</td>\n",
       "      <td>Own Goods</td>\n",
       "      <td>NaN</td>\n",
       "    </tr>\n",
       "    <tr>\n",
       "      <th>2</th>\n",
       "      <td>0</td>\n",
       "      <td>08-AUG-11</td>\n",
       "      <td>07-AUG-12</td>\n",
       "      <td>08</td>\n",
       "      <td>1202</td>\n",
       "      <td>519755.22</td>\n",
       "      <td>7045.804</td>\n",
       "      <td>5000029885</td>\n",
       "      <td>2007.0</td>\n",
       "      <td>4.0</td>\n",
       "      <td>6.0</td>\n",
       "      <td>Pick-up</td>\n",
       "      <td>3153.0</td>\n",
       "      <td>NISSAN</td>\n",
       "      <td>Own Goods</td>\n",
       "      <td>NaN</td>\n",
       "    </tr>\n",
       "    <tr>\n",
       "      <th>3</th>\n",
       "      <td>0</td>\n",
       "      <td>08-JUL-11</td>\n",
       "      <td>07-AUG-11</td>\n",
       "      <td>08</td>\n",
       "      <td>1202</td>\n",
       "      <td>519755.22</td>\n",
       "      <td>287.250</td>\n",
       "      <td>5000029885</td>\n",
       "      <td>2007.0</td>\n",
       "      <td>4.0</td>\n",
       "      <td>6.0</td>\n",
       "      <td>Pick-up</td>\n",
       "      <td>3153.0</td>\n",
       "      <td>NISSAN</td>\n",
       "      <td>Own Goods</td>\n",
       "      <td>NaN</td>\n",
       "    </tr>\n",
       "    <tr>\n",
       "      <th>4</th>\n",
       "      <td>0</td>\n",
       "      <td>08-AUG-13</td>\n",
       "      <td>07-AUG-14</td>\n",
       "      <td>08</td>\n",
       "      <td>1202</td>\n",
       "      <td>285451.24</td>\n",
       "      <td>4286.900</td>\n",
       "      <td>5000029901</td>\n",
       "      <td>2010.0</td>\n",
       "      <td>4.0</td>\n",
       "      <td>7.0</td>\n",
       "      <td>Pick-up</td>\n",
       "      <td>2494.0</td>\n",
       "      <td>TOYOTA</td>\n",
       "      <td>Own Goods</td>\n",
       "      <td>19894.43</td>\n",
       "    </tr>\n",
       "  </tbody>\n",
       "</table>\n",
       "</div>"
      ],
      "text/plain": [
       "   SEX INSR_BEGIN   INSR_END EFFECTIVE_YR  INSR_TYPE  INSURED_VALUE   PREMIUM  \\\n",
       "0    0  08-AUG-13  07-AUG-14           08       1202      519755.22  7209.140   \n",
       "1    0  08-AUG-12  07-AUG-13           08       1202      519755.22  7203.890   \n",
       "2    0  08-AUG-11  07-AUG-12           08       1202      519755.22  7045.804   \n",
       "3    0  08-JUL-11  07-AUG-11           08       1202      519755.22   287.250   \n",
       "4    0  08-AUG-13  07-AUG-14           08       1202      285451.24  4286.900   \n",
       "\n",
       "    OBJECT_ID  PROD_YEAR  SEATS_NUM  CARRYING_CAPACITY TYPE_VEHICLE  CCM_TON  \\\n",
       "0  5000029885     2007.0        4.0                6.0      Pick-up   3153.0   \n",
       "1  5000029885     2007.0        4.0                6.0      Pick-up   3153.0   \n",
       "2  5000029885     2007.0        4.0                6.0      Pick-up   3153.0   \n",
       "3  5000029885     2007.0        4.0                6.0      Pick-up   3153.0   \n",
       "4  5000029901     2010.0        4.0                7.0      Pick-up   2494.0   \n",
       "\n",
       "     MAKE      USAGE  CLAIM_PAID  \n",
       "0  NISSAN  Own Goods         NaN  \n",
       "1  NISSAN  Own Goods         NaN  \n",
       "2  NISSAN  Own Goods         NaN  \n",
       "3  NISSAN  Own Goods         NaN  \n",
       "4  TOYOTA  Own Goods    19894.43  "
      ]
     },
     "execution_count": 8,
     "metadata": {},
     "output_type": "execute_result"
    }
   ],
   "source": [
    "# check the head\n",
    "vdf.head()"
   ]
  },
  {
   "cell_type": "code",
   "execution_count": 9,
   "id": "c3921b4f-8ff1-4295-9288-0dc0055e6f02",
   "metadata": {},
   "outputs": [
    {
     "data": {
      "text/html": [
       "<div>\n",
       "<style scoped>\n",
       "    .dataframe tbody tr th:only-of-type {\n",
       "        vertical-align: middle;\n",
       "    }\n",
       "\n",
       "    .dataframe tbody tr th {\n",
       "        vertical-align: top;\n",
       "    }\n",
       "\n",
       "    .dataframe thead th {\n",
       "        text-align: right;\n",
       "    }\n",
       "</style>\n",
       "<table border=\"1\" class=\"dataframe\">\n",
       "  <thead>\n",
       "    <tr style=\"text-align: right;\">\n",
       "      <th></th>\n",
       "      <th>SEX</th>\n",
       "      <th>INSR_BEGIN</th>\n",
       "      <th>INSR_END</th>\n",
       "      <th>EFFECTIVE_YR</th>\n",
       "      <th>INSR_TYPE</th>\n",
       "      <th>INSURED_VALUE</th>\n",
       "      <th>PREMIUM</th>\n",
       "      <th>OBJECT_ID</th>\n",
       "      <th>PROD_YEAR</th>\n",
       "      <th>SEATS_NUM</th>\n",
       "      <th>CARRYING_CAPACITY</th>\n",
       "      <th>TYPE_VEHICLE</th>\n",
       "      <th>CCM_TON</th>\n",
       "      <th>MAKE</th>\n",
       "      <th>USAGE</th>\n",
       "      <th>CLAIM_PAID</th>\n",
       "    </tr>\n",
       "  </thead>\n",
       "  <tbody>\n",
       "    <tr>\n",
       "      <th>508494</th>\n",
       "      <td>0</td>\n",
       "      <td>02-FEB-18</td>\n",
       "      <td>01-FEB-19</td>\n",
       "      <td>12</td>\n",
       "      <td>1202</td>\n",
       "      <td>0.0</td>\n",
       "      <td>294.51</td>\n",
       "      <td>5001350484</td>\n",
       "      <td>2018.0</td>\n",
       "      <td>4.0</td>\n",
       "      <td>7.0</td>\n",
       "      <td>Pick-up</td>\n",
       "      <td>2400.0</td>\n",
       "      <td>TOYOTA</td>\n",
       "      <td>Own Goods</td>\n",
       "      <td>NaN</td>\n",
       "    </tr>\n",
       "    <tr>\n",
       "      <th>508495</th>\n",
       "      <td>0</td>\n",
       "      <td>02-FEB-18</td>\n",
       "      <td>01-FEB-19</td>\n",
       "      <td>12</td>\n",
       "      <td>1202</td>\n",
       "      <td>0.0</td>\n",
       "      <td>299.51</td>\n",
       "      <td>5001350489</td>\n",
       "      <td>2018.0</td>\n",
       "      <td>4.0</td>\n",
       "      <td>7.0</td>\n",
       "      <td>Pick-up</td>\n",
       "      <td>2400.0</td>\n",
       "      <td>TOYOTA</td>\n",
       "      <td>Own Goods</td>\n",
       "      <td>NaN</td>\n",
       "    </tr>\n",
       "    <tr>\n",
       "      <th>508496</th>\n",
       "      <td>0</td>\n",
       "      <td>02-FEB-18</td>\n",
       "      <td>01-FEB-19</td>\n",
       "      <td>12</td>\n",
       "      <td>1202</td>\n",
       "      <td>0.0</td>\n",
       "      <td>294.51</td>\n",
       "      <td>5001350498</td>\n",
       "      <td>2018.0</td>\n",
       "      <td>4.0</td>\n",
       "      <td>7.0</td>\n",
       "      <td>Pick-up</td>\n",
       "      <td>2400.0</td>\n",
       "      <td>TOYOTA</td>\n",
       "      <td>Own Goods</td>\n",
       "      <td>NaN</td>\n",
       "    </tr>\n",
       "    <tr>\n",
       "      <th>508497</th>\n",
       "      <td>0</td>\n",
       "      <td>02-FEB-18</td>\n",
       "      <td>01-FEB-19</td>\n",
       "      <td>12</td>\n",
       "      <td>1202</td>\n",
       "      <td>0.0</td>\n",
       "      <td>294.51</td>\n",
       "      <td>5001350502</td>\n",
       "      <td>2018.0</td>\n",
       "      <td>4.0</td>\n",
       "      <td>7.0</td>\n",
       "      <td>Pick-up</td>\n",
       "      <td>2400.0</td>\n",
       "      <td>TOYOTA</td>\n",
       "      <td>Own Goods</td>\n",
       "      <td>NaN</td>\n",
       "    </tr>\n",
       "    <tr>\n",
       "      <th>508498</th>\n",
       "      <td>0</td>\n",
       "      <td>02-FEB-18</td>\n",
       "      <td>01-FEB-19</td>\n",
       "      <td>12</td>\n",
       "      <td>1202</td>\n",
       "      <td>0.0</td>\n",
       "      <td>294.51</td>\n",
       "      <td>5001350505</td>\n",
       "      <td>2018.0</td>\n",
       "      <td>4.0</td>\n",
       "      <td>7.0</td>\n",
       "      <td>Pick-up</td>\n",
       "      <td>2400.0</td>\n",
       "      <td>TOYOTA</td>\n",
       "      <td>Own Goods</td>\n",
       "      <td>NaN</td>\n",
       "    </tr>\n",
       "  </tbody>\n",
       "</table>\n",
       "</div>"
      ],
      "text/plain": [
       "        SEX INSR_BEGIN   INSR_END EFFECTIVE_YR  INSR_TYPE  INSURED_VALUE  \\\n",
       "508494    0  02-FEB-18  01-FEB-19           12       1202            0.0   \n",
       "508495    0  02-FEB-18  01-FEB-19           12       1202            0.0   \n",
       "508496    0  02-FEB-18  01-FEB-19           12       1202            0.0   \n",
       "508497    0  02-FEB-18  01-FEB-19           12       1202            0.0   \n",
       "508498    0  02-FEB-18  01-FEB-19           12       1202            0.0   \n",
       "\n",
       "        PREMIUM   OBJECT_ID  PROD_YEAR  SEATS_NUM  CARRYING_CAPACITY  \\\n",
       "508494   294.51  5001350484     2018.0        4.0                7.0   \n",
       "508495   299.51  5001350489     2018.0        4.0                7.0   \n",
       "508496   294.51  5001350498     2018.0        4.0                7.0   \n",
       "508497   294.51  5001350502     2018.0        4.0                7.0   \n",
       "508498   294.51  5001350505     2018.0        4.0                7.0   \n",
       "\n",
       "       TYPE_VEHICLE  CCM_TON    MAKE      USAGE  CLAIM_PAID  \n",
       "508494      Pick-up   2400.0  TOYOTA  Own Goods         NaN  \n",
       "508495      Pick-up   2400.0  TOYOTA  Own Goods         NaN  \n",
       "508496      Pick-up   2400.0  TOYOTA  Own Goods         NaN  \n",
       "508497      Pick-up   2400.0  TOYOTA  Own Goods         NaN  \n",
       "508498      Pick-up   2400.0  TOYOTA  Own Goods         NaN  "
      ]
     },
     "execution_count": 9,
     "metadata": {},
     "output_type": "execute_result"
    }
   ],
   "source": [
    "# check the tail \n",
    "vdf.tail()"
   ]
  },
  {
   "cell_type": "markdown",
   "id": "bf903981-ff82-495c-9611-e066f69b12f7",
   "metadata": {},
   "source": [
    "## 3. Data Cleaning"
   ]
  },
  {
   "cell_type": "markdown",
   "id": "2f9e1d04-48d6-4c2c-b094-b07554ac46f9",
   "metadata": {},
   "source": [
    "## 3.1 Organize the data"
   ]
  },
  {
   "cell_type": "code",
   "execution_count": 10,
   "id": "472604e7-70bb-4cb0-a1bc-95490142fa26",
   "metadata": {},
   "outputs": [
    {
     "data": {
      "text/plain": [
       "(508499, 16)"
      ]
     },
     "execution_count": 10,
     "metadata": {},
     "output_type": "execute_result"
    }
   ],
   "source": [
    "# find and remove index duplicates\n",
    "vdf = vdf[~vdf.index.duplicated()]\n",
    "vdf.shape"
   ]
  },
  {
   "cell_type": "code",
   "execution_count": 11,
   "id": "6162154e-e5b8-4e0a-b34e-f33540d650db",
   "metadata": {},
   "outputs": [
    {
     "name": "stdout",
     "output_type": "stream",
     "text": [
      "Index(['SEX', 'INSR_BEGIN', 'INSR_END', 'EFFECTIVE_YR', 'INSR_TYPE',\n",
      "       'INSURED_VALUE', 'PREMIUM', 'OBJECT_ID', 'PROD_YEAR', 'SEATS_NUM',\n",
      "       'CARRYING_CAPACITY', 'TYPE_VEHICLE', 'CCM_TON', 'MAKE', 'USAGE',\n",
      "       'CLAIM_PAID'],\n",
      "      dtype='object')\n"
     ]
    }
   ],
   "source": [
    "# check the column names\n",
    "print(vdf.columns)"
   ]
  },
  {
   "cell_type": "code",
   "execution_count": 12,
   "id": "2da6d08f-dc3d-4d4d-88a5-c4a71b1e3bc9",
   "metadata": {},
   "outputs": [
    {
     "name": "stdout",
     "output_type": "stream",
     "text": [
      "<class 'pandas.core.frame.DataFrame'>\n",
      "Index: 508499 entries, 0 to 508498\n",
      "Data columns (total 16 columns):\n",
      " #   Column             Non-Null Count   Dtype  \n",
      "---  ------             --------------   -----  \n",
      " 0   SEX                508499 non-null  int64  \n",
      " 1   INSR_BEGIN         508499 non-null  object \n",
      " 2   INSR_END           508499 non-null  object \n",
      " 3   EFFECTIVE_YR       508495 non-null  object \n",
      " 4   INSR_TYPE          508499 non-null  int64  \n",
      " 5   INSURED_VALUE      508499 non-null  float64\n",
      " 6   PREMIUM            508483 non-null  float64\n",
      " 7   OBJECT_ID          508499 non-null  int64  \n",
      " 8   PROD_YEAR          508383 non-null  float64\n",
      " 9   SEATS_NUM          508340 non-null  float64\n",
      " 10  CARRYING_CAPACITY  385878 non-null  float64\n",
      " 11  TYPE_VEHICLE       508499 non-null  object \n",
      " 12  CCM_TON            508497 non-null  float64\n",
      " 13  MAKE               508494 non-null  object \n",
      " 14  USAGE              508499 non-null  object \n",
      " 15  CLAIM_PAID         35454 non-null   float64\n",
      "dtypes: float64(7), int64(3), object(6)\n",
      "memory usage: 66.0+ MB\n"
     ]
    }
   ],
   "source": [
    "# check the datatypes\n",
    "vdf.info()"
   ]
  },
  {
   "cell_type": "markdown",
   "id": "c2adfd13-ec56-4e0f-90a5-9a9368c4c6a6",
   "metadata": {},
   "source": [
    "## 3.2 Shaping the columns"
   ]
  },
  {
   "cell_type": "code",
   "execution_count": 13,
   "id": "3aac8965-1e43-48d2-bd2d-a3486d499722",
   "metadata": {},
   "outputs": [
    {
     "name": "stdout",
     "output_type": "stream",
     "text": [
      "177\n"
     ]
    }
   ],
   "source": [
    "# check for duplicates\n",
    "duplicates = vdf.duplicated().sum()\n",
    "print(duplicates)"
   ]
  },
  {
   "cell_type": "code",
   "execution_count": 14,
   "id": "51fa3eb7-2ec6-488f-96b2-7eb035e47f25",
   "metadata": {},
   "outputs": [],
   "source": [
    "# remove duplicates\n",
    "vdf = vdf.drop_duplicates()"
   ]
  },
  {
   "cell_type": "markdown",
   "id": "845d84c9-5faa-498c-9b7e-edf901bdcc50",
   "metadata": {},
   "source": [
    "I'll drop the effective year column as I was unable to find its purpose."
   ]
  },
  {
   "cell_type": "code",
   "execution_count": 15,
   "id": "c129cf22-eb08-47f4-ae67-7bdca5374183",
   "metadata": {},
   "outputs": [],
   "source": [
    "# drop columns \n",
    "vdf.drop(columns = 'EFFECTIVE_YR', inplace = True)"
   ]
  },
  {
   "cell_type": "markdown",
   "id": "bfb9229b-6c9a-43ae-b03a-b61820502966",
   "metadata": {},
   "source": [
    "## 3.3 Dealing with Missing Values"
   ]
  },
  {
   "cell_type": "code",
   "execution_count": 16,
   "id": "3fadbb87-f297-478f-9715-354e6d041716",
   "metadata": {},
   "outputs": [
    {
     "data": {
      "text/plain": [
       "SEX                       0\n",
       "INSR_BEGIN                0\n",
       "INSR_END                  0\n",
       "INSR_TYPE                 0\n",
       "INSURED_VALUE             0\n",
       "PREMIUM                  16\n",
       "OBJECT_ID                 0\n",
       "PROD_YEAR               116\n",
       "SEATS_NUM               159\n",
       "CARRYING_CAPACITY    122586\n",
       "TYPE_VEHICLE              0\n",
       "CCM_TON                   2\n",
       "MAKE                      5\n",
       "USAGE                     0\n",
       "CLAIM_PAID           472868\n",
       "dtype: int64"
      ]
     },
     "execution_count": 16,
     "metadata": {},
     "output_type": "execute_result"
    }
   ],
   "source": [
    "# check for null values\n",
    "vdf.isnull().sum()"
   ]
  },
  {
   "cell_type": "markdown",
   "id": "7b5901a8-da94-45df-826a-ee87cd936e31",
   "metadata": {},
   "source": [
    "Our dataset has a large number of null values. Because the nulls are so few in some columns we'll drop them. The ones with a high number of nulls we'll handle later."
   ]
  },
  {
   "cell_type": "code",
   "execution_count": 17,
   "id": "156a9c9f-a84b-4ed0-9244-c63435d34a91",
   "metadata": {},
   "outputs": [
    {
     "data": {
      "text/plain": [
       "SEX                       0\n",
       "INSR_BEGIN                0\n",
       "INSR_END                  0\n",
       "INSR_TYPE                 0\n",
       "INSURED_VALUE             0\n",
       "PREMIUM                   0\n",
       "OBJECT_ID                 0\n",
       "PROD_YEAR                 0\n",
       "SEATS_NUM                 0\n",
       "CARRYING_CAPACITY    122446\n",
       "TYPE_VEHICLE              0\n",
       "CCM_TON                   0\n",
       "MAKE                      0\n",
       "USAGE                     0\n",
       "CLAIM_PAID           472692\n",
       "dtype: int64"
      ]
     },
     "execution_count": 17,
     "metadata": {},
     "output_type": "execute_result"
    }
   ],
   "source": [
    "# drop na values for some columns\n",
    "vdf = vdf.dropna(subset=['PREMIUM', 'PROD_YEAR', 'CCM_TON','MAKE', 'SEATS_NUM'])\n",
    "vdf.isnull().sum()"
   ]
  },
  {
   "cell_type": "markdown",
   "id": "c83dab42-fddd-4da7-8974-471459271348",
   "metadata": {},
   "source": [
    "In the claim paid column I will replace null values with zero, because a null claim means no claim was paid"
   ]
  },
  {
   "cell_type": "code",
   "execution_count": 18,
   "id": "b998bdea-c18c-4f76-a931-7bf1013aa2db",
   "metadata": {},
   "outputs": [],
   "source": [
    "# replace null values with 0 in the claim_paid column\n",
    "vdf['CLAIM_PAID'].fillna(0, inplace = True)"
   ]
  },
  {
   "cell_type": "code",
   "execution_count": 19,
   "id": "4d60fbc2-b9c5-4cc0-812d-864069d97cb3",
   "metadata": {},
   "outputs": [
    {
     "data": {
      "text/html": [
       "<div>\n",
       "<style scoped>\n",
       "    .dataframe tbody tr th:only-of-type {\n",
       "        vertical-align: middle;\n",
       "    }\n",
       "\n",
       "    .dataframe tbody tr th {\n",
       "        vertical-align: top;\n",
       "    }\n",
       "\n",
       "    .dataframe thead th {\n",
       "        text-align: right;\n",
       "    }\n",
       "</style>\n",
       "<table border=\"1\" class=\"dataframe\">\n",
       "  <thead>\n",
       "    <tr style=\"text-align: right;\">\n",
       "      <th></th>\n",
       "      <th>SEX</th>\n",
       "      <th>INSR_BEGIN</th>\n",
       "      <th>INSR_END</th>\n",
       "      <th>INSR_TYPE</th>\n",
       "      <th>INSURED_VALUE</th>\n",
       "      <th>PREMIUM</th>\n",
       "      <th>OBJECT_ID</th>\n",
       "      <th>PROD_YEAR</th>\n",
       "      <th>SEATS_NUM</th>\n",
       "      <th>CARRYING_CAPACITY</th>\n",
       "      <th>TYPE_VEHICLE</th>\n",
       "      <th>CCM_TON</th>\n",
       "      <th>MAKE</th>\n",
       "      <th>USAGE</th>\n",
       "      <th>CLAIM_PAID</th>\n",
       "      <th>CLAIM</th>\n",
       "    </tr>\n",
       "  </thead>\n",
       "  <tbody>\n",
       "    <tr>\n",
       "      <th>0</th>\n",
       "      <td>0</td>\n",
       "      <td>08-AUG-13</td>\n",
       "      <td>07-AUG-14</td>\n",
       "      <td>1202</td>\n",
       "      <td>519755.22</td>\n",
       "      <td>7209.140</td>\n",
       "      <td>5000029885</td>\n",
       "      <td>2007.0</td>\n",
       "      <td>4.0</td>\n",
       "      <td>6.0</td>\n",
       "      <td>Pick-up</td>\n",
       "      <td>3153.0</td>\n",
       "      <td>NISSAN</td>\n",
       "      <td>Own Goods</td>\n",
       "      <td>0.00</td>\n",
       "      <td>NO</td>\n",
       "    </tr>\n",
       "    <tr>\n",
       "      <th>1</th>\n",
       "      <td>0</td>\n",
       "      <td>08-AUG-12</td>\n",
       "      <td>07-AUG-13</td>\n",
       "      <td>1202</td>\n",
       "      <td>519755.22</td>\n",
       "      <td>7203.890</td>\n",
       "      <td>5000029885</td>\n",
       "      <td>2007.0</td>\n",
       "      <td>4.0</td>\n",
       "      <td>6.0</td>\n",
       "      <td>Pick-up</td>\n",
       "      <td>3153.0</td>\n",
       "      <td>NISSAN</td>\n",
       "      <td>Own Goods</td>\n",
       "      <td>0.00</td>\n",
       "      <td>NO</td>\n",
       "    </tr>\n",
       "    <tr>\n",
       "      <th>2</th>\n",
       "      <td>0</td>\n",
       "      <td>08-AUG-11</td>\n",
       "      <td>07-AUG-12</td>\n",
       "      <td>1202</td>\n",
       "      <td>519755.22</td>\n",
       "      <td>7045.804</td>\n",
       "      <td>5000029885</td>\n",
       "      <td>2007.0</td>\n",
       "      <td>4.0</td>\n",
       "      <td>6.0</td>\n",
       "      <td>Pick-up</td>\n",
       "      <td>3153.0</td>\n",
       "      <td>NISSAN</td>\n",
       "      <td>Own Goods</td>\n",
       "      <td>0.00</td>\n",
       "      <td>NO</td>\n",
       "    </tr>\n",
       "    <tr>\n",
       "      <th>3</th>\n",
       "      <td>0</td>\n",
       "      <td>08-JUL-11</td>\n",
       "      <td>07-AUG-11</td>\n",
       "      <td>1202</td>\n",
       "      <td>519755.22</td>\n",
       "      <td>287.250</td>\n",
       "      <td>5000029885</td>\n",
       "      <td>2007.0</td>\n",
       "      <td>4.0</td>\n",
       "      <td>6.0</td>\n",
       "      <td>Pick-up</td>\n",
       "      <td>3153.0</td>\n",
       "      <td>NISSAN</td>\n",
       "      <td>Own Goods</td>\n",
       "      <td>0.00</td>\n",
       "      <td>NO</td>\n",
       "    </tr>\n",
       "    <tr>\n",
       "      <th>4</th>\n",
       "      <td>0</td>\n",
       "      <td>08-AUG-13</td>\n",
       "      <td>07-AUG-14</td>\n",
       "      <td>1202</td>\n",
       "      <td>285451.24</td>\n",
       "      <td>4286.900</td>\n",
       "      <td>5000029901</td>\n",
       "      <td>2010.0</td>\n",
       "      <td>4.0</td>\n",
       "      <td>7.0</td>\n",
       "      <td>Pick-up</td>\n",
       "      <td>2494.0</td>\n",
       "      <td>TOYOTA</td>\n",
       "      <td>Own Goods</td>\n",
       "      <td>19894.43</td>\n",
       "      <td>YES</td>\n",
       "    </tr>\n",
       "    <tr>\n",
       "      <th>...</th>\n",
       "      <td>...</td>\n",
       "      <td>...</td>\n",
       "      <td>...</td>\n",
       "      <td>...</td>\n",
       "      <td>...</td>\n",
       "      <td>...</td>\n",
       "      <td>...</td>\n",
       "      <td>...</td>\n",
       "      <td>...</td>\n",
       "      <td>...</td>\n",
       "      <td>...</td>\n",
       "      <td>...</td>\n",
       "      <td>...</td>\n",
       "      <td>...</td>\n",
       "      <td>...</td>\n",
       "      <td>...</td>\n",
       "    </tr>\n",
       "    <tr>\n",
       "      <th>508494</th>\n",
       "      <td>0</td>\n",
       "      <td>02-FEB-18</td>\n",
       "      <td>01-FEB-19</td>\n",
       "      <td>1202</td>\n",
       "      <td>0.00</td>\n",
       "      <td>294.510</td>\n",
       "      <td>5001350484</td>\n",
       "      <td>2018.0</td>\n",
       "      <td>4.0</td>\n",
       "      <td>7.0</td>\n",
       "      <td>Pick-up</td>\n",
       "      <td>2400.0</td>\n",
       "      <td>TOYOTA</td>\n",
       "      <td>Own Goods</td>\n",
       "      <td>0.00</td>\n",
       "      <td>NO</td>\n",
       "    </tr>\n",
       "    <tr>\n",
       "      <th>508495</th>\n",
       "      <td>0</td>\n",
       "      <td>02-FEB-18</td>\n",
       "      <td>01-FEB-19</td>\n",
       "      <td>1202</td>\n",
       "      <td>0.00</td>\n",
       "      <td>299.510</td>\n",
       "      <td>5001350489</td>\n",
       "      <td>2018.0</td>\n",
       "      <td>4.0</td>\n",
       "      <td>7.0</td>\n",
       "      <td>Pick-up</td>\n",
       "      <td>2400.0</td>\n",
       "      <td>TOYOTA</td>\n",
       "      <td>Own Goods</td>\n",
       "      <td>0.00</td>\n",
       "      <td>NO</td>\n",
       "    </tr>\n",
       "    <tr>\n",
       "      <th>508496</th>\n",
       "      <td>0</td>\n",
       "      <td>02-FEB-18</td>\n",
       "      <td>01-FEB-19</td>\n",
       "      <td>1202</td>\n",
       "      <td>0.00</td>\n",
       "      <td>294.510</td>\n",
       "      <td>5001350498</td>\n",
       "      <td>2018.0</td>\n",
       "      <td>4.0</td>\n",
       "      <td>7.0</td>\n",
       "      <td>Pick-up</td>\n",
       "      <td>2400.0</td>\n",
       "      <td>TOYOTA</td>\n",
       "      <td>Own Goods</td>\n",
       "      <td>0.00</td>\n",
       "      <td>NO</td>\n",
       "    </tr>\n",
       "    <tr>\n",
       "      <th>508497</th>\n",
       "      <td>0</td>\n",
       "      <td>02-FEB-18</td>\n",
       "      <td>01-FEB-19</td>\n",
       "      <td>1202</td>\n",
       "      <td>0.00</td>\n",
       "      <td>294.510</td>\n",
       "      <td>5001350502</td>\n",
       "      <td>2018.0</td>\n",
       "      <td>4.0</td>\n",
       "      <td>7.0</td>\n",
       "      <td>Pick-up</td>\n",
       "      <td>2400.0</td>\n",
       "      <td>TOYOTA</td>\n",
       "      <td>Own Goods</td>\n",
       "      <td>0.00</td>\n",
       "      <td>NO</td>\n",
       "    </tr>\n",
       "    <tr>\n",
       "      <th>508498</th>\n",
       "      <td>0</td>\n",
       "      <td>02-FEB-18</td>\n",
       "      <td>01-FEB-19</td>\n",
       "      <td>1202</td>\n",
       "      <td>0.00</td>\n",
       "      <td>294.510</td>\n",
       "      <td>5001350505</td>\n",
       "      <td>2018.0</td>\n",
       "      <td>4.0</td>\n",
       "      <td>7.0</td>\n",
       "      <td>Pick-up</td>\n",
       "      <td>2400.0</td>\n",
       "      <td>TOYOTA</td>\n",
       "      <td>Own Goods</td>\n",
       "      <td>0.00</td>\n",
       "      <td>NO</td>\n",
       "    </tr>\n",
       "  </tbody>\n",
       "</table>\n",
       "<p>508138 rows × 16 columns</p>\n",
       "</div>"
      ],
      "text/plain": [
       "        SEX INSR_BEGIN   INSR_END  INSR_TYPE  INSURED_VALUE   PREMIUM  \\\n",
       "0         0  08-AUG-13  07-AUG-14       1202      519755.22  7209.140   \n",
       "1         0  08-AUG-12  07-AUG-13       1202      519755.22  7203.890   \n",
       "2         0  08-AUG-11  07-AUG-12       1202      519755.22  7045.804   \n",
       "3         0  08-JUL-11  07-AUG-11       1202      519755.22   287.250   \n",
       "4         0  08-AUG-13  07-AUG-14       1202      285451.24  4286.900   \n",
       "...     ...        ...        ...        ...            ...       ...   \n",
       "508494    0  02-FEB-18  01-FEB-19       1202           0.00   294.510   \n",
       "508495    0  02-FEB-18  01-FEB-19       1202           0.00   299.510   \n",
       "508496    0  02-FEB-18  01-FEB-19       1202           0.00   294.510   \n",
       "508497    0  02-FEB-18  01-FEB-19       1202           0.00   294.510   \n",
       "508498    0  02-FEB-18  01-FEB-19       1202           0.00   294.510   \n",
       "\n",
       "         OBJECT_ID  PROD_YEAR  SEATS_NUM  CARRYING_CAPACITY TYPE_VEHICLE  \\\n",
       "0       5000029885     2007.0        4.0                6.0      Pick-up   \n",
       "1       5000029885     2007.0        4.0                6.0      Pick-up   \n",
       "2       5000029885     2007.0        4.0                6.0      Pick-up   \n",
       "3       5000029885     2007.0        4.0                6.0      Pick-up   \n",
       "4       5000029901     2010.0        4.0                7.0      Pick-up   \n",
       "...            ...        ...        ...                ...          ...   \n",
       "508494  5001350484     2018.0        4.0                7.0      Pick-up   \n",
       "508495  5001350489     2018.0        4.0                7.0      Pick-up   \n",
       "508496  5001350498     2018.0        4.0                7.0      Pick-up   \n",
       "508497  5001350502     2018.0        4.0                7.0      Pick-up   \n",
       "508498  5001350505     2018.0        4.0                7.0      Pick-up   \n",
       "\n",
       "        CCM_TON    MAKE      USAGE  CLAIM_PAID CLAIM  \n",
       "0        3153.0  NISSAN  Own Goods        0.00    NO  \n",
       "1        3153.0  NISSAN  Own Goods        0.00    NO  \n",
       "2        3153.0  NISSAN  Own Goods        0.00    NO  \n",
       "3        3153.0  NISSAN  Own Goods        0.00    NO  \n",
       "4        2494.0  TOYOTA  Own Goods    19894.43   YES  \n",
       "...         ...     ...        ...         ...   ...  \n",
       "508494   2400.0  TOYOTA  Own Goods        0.00    NO  \n",
       "508495   2400.0  TOYOTA  Own Goods        0.00    NO  \n",
       "508496   2400.0  TOYOTA  Own Goods        0.00    NO  \n",
       "508497   2400.0  TOYOTA  Own Goods        0.00    NO  \n",
       "508498   2400.0  TOYOTA  Own Goods        0.00    NO  \n",
       "\n",
       "[508138 rows x 16 columns]"
      ]
     },
     "execution_count": 19,
     "metadata": {},
     "output_type": "execute_result"
    }
   ],
   "source": [
    "# create a new column to determine if the claim was paid\n",
    "vdf['CLAIM'] = np.where(vdf['CLAIM_PAID'] == 0, 'NO', 'YES')\n",
    "vdf"
   ]
  },
  {
   "cell_type": "markdown",
   "id": "966a8ea2-439e-4a04-b322-390dcd4a715a",
   "metadata": {},
   "source": [
    "I'll create new columns for sex and insurance type so we get rid of the numerical values."
   ]
  },
  {
   "cell_type": "code",
   "execution_count": 20,
   "id": "7d108ebf-9203-49f2-aa08-cb41453db489",
   "metadata": {},
   "outputs": [],
   "source": [
    "# map the sex column\n",
    "vdf.loc[:,'GENDER'] = vdf['SEX'].map({0: 'Legal Entity', 1: 'Male', 2: 'Female'})\n",
    "\n",
    "# drop the sex column\n",
    "vdf.drop(columns = 'SEX', inplace = True)"
   ]
  },
  {
   "cell_type": "code",
   "execution_count": 21,
   "id": "5a5d44af-86d3-40e5-b4ac-af3a2fb94ba4",
   "metadata": {},
   "outputs": [],
   "source": [
    "# map the insr_type column\n",
    "vdf.loc[:,'TYPE_INSR'] = vdf['INSR_TYPE'].map({1201: 'Private', 1202:'Commercial', 1204: 'Motor Trade Road Risk'})\n",
    "\n",
    "# drop the insr_type column\n",
    "vdf.drop(columns = 'INSR_TYPE', inplace = True)"
   ]
  },
  {
   "cell_type": "markdown",
   "id": "5b7b72bf-aac6-493f-9806-ad57f18dfd3c",
   "metadata": {},
   "source": [
    "I wanted to convert the insr_end, insr_begin columns to datetime and then find the insurance length. Depending on the day, pd.to_datetime would work and sometimes it would not. This time it did not work. The issue was with the month in caps, it messed up the format."
   ]
  },
  {
   "cell_type": "code",
   "execution_count": 24,
   "id": "fb065ced-80be-47ee-bac4-ab28a3ab87cd",
   "metadata": {},
   "outputs": [
    {
     "name": "stdout",
     "output_type": "stream",
     "text": [
      "<class 'pandas.core.frame.DataFrame'>\n",
      "Index: 508138 entries, 0 to 508498\n",
      "Data columns (total 16 columns):\n",
      " #   Column             Non-Null Count   Dtype         \n",
      "---  ------             --------------   -----         \n",
      " 0   INSR_BEGIN         508138 non-null  datetime64[ns]\n",
      " 1   INSR_END           508138 non-null  datetime64[ns]\n",
      " 2   INSURED_VALUE      508138 non-null  float64       \n",
      " 3   PREMIUM            508138 non-null  float64       \n",
      " 4   OBJECT_ID          508138 non-null  int64         \n",
      " 5   PROD_YEAR          508138 non-null  float64       \n",
      " 6   SEATS_NUM          508138 non-null  float64       \n",
      " 7   CARRYING_CAPACITY  385692 non-null  float64       \n",
      " 8   TYPE_VEHICLE       508138 non-null  object        \n",
      " 9   CCM_TON            508138 non-null  float64       \n",
      " 10  MAKE               508138 non-null  object        \n",
      " 11  USAGE              508138 non-null  object        \n",
      " 12  CLAIM_PAID         508138 non-null  float64       \n",
      " 13  CLAIM              508138 non-null  object        \n",
      " 14  GENDER             508138 non-null  object        \n",
      " 15  TYPE_INSR          508138 non-null  object        \n",
      "dtypes: datetime64[ns](2), float64(7), int64(1), object(6)\n",
      "memory usage: 65.9+ MB\n"
     ]
    }
   ],
   "source": [
    "# convert the datatype to datetime in insr_end, insr_begin\n",
    "# function to parse dates\n",
    "def parse_date(date_str):\n",
    "    # convert the month abbr to numerical rep\n",
    "    month_dict = {'JAN': '01', 'FEB': '02', 'MAR': '03', 'APR': '04', 'MAY': '05', 'JUN': '06',\n",
    "                  'JUL': '07', 'AUG': '08', 'SEP': '09', 'OCT': '10', 'NOV': '11', 'DEC': '12'}\n",
    "    parts = date_str.split('-')\n",
    "    # extract day, month, and year from the date string\n",
    "    day = parts[0]\n",
    "    month = month_dict[parts[1]]\n",
    "    year = parts[2]\n",
    "    # combine and return as a date\n",
    "    return pd.to_datetime(f'{day}-{month}-{year}', format = '%d-%m-%y')\n",
    "\n",
    "# apply function on the columns\n",
    "vdf['INSR_BEGIN'] = vdf['INSR_BEGIN'].apply(parse_date)\n",
    "\n",
    "vdf['INSR_END'] = vdf['INSR_END'].apply(parse_date)\n",
    "\n",
    "# check the datatypes\n",
    "vdf.info()"
   ]
  },
  {
   "cell_type": "code",
   "execution_count": 25,
   "id": "8f41b1b1-39e6-4792-ab64-87ba1a9dfb8f",
   "metadata": {},
   "outputs": [],
   "source": [
    "# create a new column to show the insurance length (insr_end - insr_begin)\n",
    "vdf['INSR_LENGTH'] = (vdf['INSR_END'] - vdf['INSR_BEGIN']).dt.days / 30.44\n",
    "vdf['INSR_LENGTH'] = vdf['INSR_LENGTH'].astype(int)"
   ]
  },
  {
   "cell_type": "markdown",
   "id": "6f023368-a2a6-4d67-817e-4962db7a0b99",
   "metadata": {},
   "source": [
    "Let's see how the data looks so far"
   ]
  },
  {
   "cell_type": "code",
   "execution_count": 26,
   "id": "579a57cc-e6a9-45db-a2bd-2d82e4d7646b",
   "metadata": {},
   "outputs": [
    {
     "data": {
      "text/html": [
       "<div>\n",
       "<style scoped>\n",
       "    .dataframe tbody tr th:only-of-type {\n",
       "        vertical-align: middle;\n",
       "    }\n",
       "\n",
       "    .dataframe tbody tr th {\n",
       "        vertical-align: top;\n",
       "    }\n",
       "\n",
       "    .dataframe thead th {\n",
       "        text-align: right;\n",
       "    }\n",
       "</style>\n",
       "<table border=\"1\" class=\"dataframe\">\n",
       "  <thead>\n",
       "    <tr style=\"text-align: right;\">\n",
       "      <th></th>\n",
       "      <th>INSR_BEGIN</th>\n",
       "      <th>INSR_END</th>\n",
       "      <th>INSURED_VALUE</th>\n",
       "      <th>PREMIUM</th>\n",
       "      <th>OBJECT_ID</th>\n",
       "      <th>PROD_YEAR</th>\n",
       "      <th>SEATS_NUM</th>\n",
       "      <th>CARRYING_CAPACITY</th>\n",
       "      <th>TYPE_VEHICLE</th>\n",
       "      <th>CCM_TON</th>\n",
       "      <th>MAKE</th>\n",
       "      <th>USAGE</th>\n",
       "      <th>CLAIM_PAID</th>\n",
       "      <th>CLAIM</th>\n",
       "      <th>GENDER</th>\n",
       "      <th>TYPE_INSR</th>\n",
       "      <th>INSR_LENGTH</th>\n",
       "    </tr>\n",
       "  </thead>\n",
       "  <tbody>\n",
       "    <tr>\n",
       "      <th>0</th>\n",
       "      <td>2013-08-08</td>\n",
       "      <td>2014-08-07</td>\n",
       "      <td>519755.22</td>\n",
       "      <td>7209.140</td>\n",
       "      <td>5000029885</td>\n",
       "      <td>2007.0</td>\n",
       "      <td>4.0</td>\n",
       "      <td>6.0</td>\n",
       "      <td>Pick-up</td>\n",
       "      <td>3153.0</td>\n",
       "      <td>NISSAN</td>\n",
       "      <td>Own Goods</td>\n",
       "      <td>0.00</td>\n",
       "      <td>NO</td>\n",
       "      <td>Legal Entity</td>\n",
       "      <td>Commercial</td>\n",
       "      <td>11</td>\n",
       "    </tr>\n",
       "    <tr>\n",
       "      <th>1</th>\n",
       "      <td>2012-08-08</td>\n",
       "      <td>2013-08-07</td>\n",
       "      <td>519755.22</td>\n",
       "      <td>7203.890</td>\n",
       "      <td>5000029885</td>\n",
       "      <td>2007.0</td>\n",
       "      <td>4.0</td>\n",
       "      <td>6.0</td>\n",
       "      <td>Pick-up</td>\n",
       "      <td>3153.0</td>\n",
       "      <td>NISSAN</td>\n",
       "      <td>Own Goods</td>\n",
       "      <td>0.00</td>\n",
       "      <td>NO</td>\n",
       "      <td>Legal Entity</td>\n",
       "      <td>Commercial</td>\n",
       "      <td>11</td>\n",
       "    </tr>\n",
       "    <tr>\n",
       "      <th>2</th>\n",
       "      <td>2011-08-08</td>\n",
       "      <td>2012-08-07</td>\n",
       "      <td>519755.22</td>\n",
       "      <td>7045.804</td>\n",
       "      <td>5000029885</td>\n",
       "      <td>2007.0</td>\n",
       "      <td>4.0</td>\n",
       "      <td>6.0</td>\n",
       "      <td>Pick-up</td>\n",
       "      <td>3153.0</td>\n",
       "      <td>NISSAN</td>\n",
       "      <td>Own Goods</td>\n",
       "      <td>0.00</td>\n",
       "      <td>NO</td>\n",
       "      <td>Legal Entity</td>\n",
       "      <td>Commercial</td>\n",
       "      <td>11</td>\n",
       "    </tr>\n",
       "    <tr>\n",
       "      <th>3</th>\n",
       "      <td>2011-07-08</td>\n",
       "      <td>2011-08-07</td>\n",
       "      <td>519755.22</td>\n",
       "      <td>287.250</td>\n",
       "      <td>5000029885</td>\n",
       "      <td>2007.0</td>\n",
       "      <td>4.0</td>\n",
       "      <td>6.0</td>\n",
       "      <td>Pick-up</td>\n",
       "      <td>3153.0</td>\n",
       "      <td>NISSAN</td>\n",
       "      <td>Own Goods</td>\n",
       "      <td>0.00</td>\n",
       "      <td>NO</td>\n",
       "      <td>Legal Entity</td>\n",
       "      <td>Commercial</td>\n",
       "      <td>0</td>\n",
       "    </tr>\n",
       "    <tr>\n",
       "      <th>4</th>\n",
       "      <td>2013-08-08</td>\n",
       "      <td>2014-08-07</td>\n",
       "      <td>285451.24</td>\n",
       "      <td>4286.900</td>\n",
       "      <td>5000029901</td>\n",
       "      <td>2010.0</td>\n",
       "      <td>4.0</td>\n",
       "      <td>7.0</td>\n",
       "      <td>Pick-up</td>\n",
       "      <td>2494.0</td>\n",
       "      <td>TOYOTA</td>\n",
       "      <td>Own Goods</td>\n",
       "      <td>19894.43</td>\n",
       "      <td>YES</td>\n",
       "      <td>Legal Entity</td>\n",
       "      <td>Commercial</td>\n",
       "      <td>11</td>\n",
       "    </tr>\n",
       "  </tbody>\n",
       "</table>\n",
       "</div>"
      ],
      "text/plain": [
       "  INSR_BEGIN   INSR_END  INSURED_VALUE   PREMIUM   OBJECT_ID  PROD_YEAR  \\\n",
       "0 2013-08-08 2014-08-07      519755.22  7209.140  5000029885     2007.0   \n",
       "1 2012-08-08 2013-08-07      519755.22  7203.890  5000029885     2007.0   \n",
       "2 2011-08-08 2012-08-07      519755.22  7045.804  5000029885     2007.0   \n",
       "3 2011-07-08 2011-08-07      519755.22   287.250  5000029885     2007.0   \n",
       "4 2013-08-08 2014-08-07      285451.24  4286.900  5000029901     2010.0   \n",
       "\n",
       "   SEATS_NUM  CARRYING_CAPACITY TYPE_VEHICLE  CCM_TON    MAKE      USAGE  \\\n",
       "0        4.0                6.0      Pick-up   3153.0  NISSAN  Own Goods   \n",
       "1        4.0                6.0      Pick-up   3153.0  NISSAN  Own Goods   \n",
       "2        4.0                6.0      Pick-up   3153.0  NISSAN  Own Goods   \n",
       "3        4.0                6.0      Pick-up   3153.0  NISSAN  Own Goods   \n",
       "4        4.0                7.0      Pick-up   2494.0  TOYOTA  Own Goods   \n",
       "\n",
       "   CLAIM_PAID CLAIM        GENDER   TYPE_INSR  INSR_LENGTH  \n",
       "0        0.00    NO  Legal Entity  Commercial           11  \n",
       "1        0.00    NO  Legal Entity  Commercial           11  \n",
       "2        0.00    NO  Legal Entity  Commercial           11  \n",
       "3        0.00    NO  Legal Entity  Commercial            0  \n",
       "4    19894.43   YES  Legal Entity  Commercial           11  "
      ]
     },
     "execution_count": 26,
     "metadata": {},
     "output_type": "execute_result"
    }
   ],
   "source": [
    "# check the head\n",
    "vdf.head()"
   ]
  },
  {
   "cell_type": "code",
   "execution_count": 27,
   "id": "c48de5fc-2f1b-46fd-b5b4-16ed9128c4d3",
   "metadata": {},
   "outputs": [
    {
     "data": {
      "text/html": [
       "<div>\n",
       "<style scoped>\n",
       "    .dataframe tbody tr th:only-of-type {\n",
       "        vertical-align: middle;\n",
       "    }\n",
       "\n",
       "    .dataframe tbody tr th {\n",
       "        vertical-align: top;\n",
       "    }\n",
       "\n",
       "    .dataframe thead th {\n",
       "        text-align: right;\n",
       "    }\n",
       "</style>\n",
       "<table border=\"1\" class=\"dataframe\">\n",
       "  <thead>\n",
       "    <tr style=\"text-align: right;\">\n",
       "      <th></th>\n",
       "      <th>INSR_BEGIN</th>\n",
       "      <th>INSR_END</th>\n",
       "      <th>INSURED_VALUE</th>\n",
       "      <th>PREMIUM</th>\n",
       "      <th>OBJECT_ID</th>\n",
       "      <th>PROD_YEAR</th>\n",
       "      <th>SEATS_NUM</th>\n",
       "      <th>CARRYING_CAPACITY</th>\n",
       "      <th>CCM_TON</th>\n",
       "      <th>CLAIM_PAID</th>\n",
       "      <th>INSR_LENGTH</th>\n",
       "    </tr>\n",
       "  </thead>\n",
       "  <tbody>\n",
       "    <tr>\n",
       "      <th>count</th>\n",
       "      <td>508138</td>\n",
       "      <td>508138</td>\n",
       "      <td>5.081380e+05</td>\n",
       "      <td>508138.000000</td>\n",
       "      <td>5.081380e+05</td>\n",
       "      <td>508138.000000</td>\n",
       "      <td>508138.000000</td>\n",
       "      <td>385692.000000</td>\n",
       "      <td>508138.000000</td>\n",
       "      <td>5.081380e+05</td>\n",
       "      <td>508138.000000</td>\n",
       "    </tr>\n",
       "    <tr>\n",
       "      <th>mean</th>\n",
       "      <td>2014-08-09 10:06:36.997666048</td>\n",
       "      <td>2015-07-22 00:48:26.026315520</td>\n",
       "      <td>4.899990e+05</td>\n",
       "      <td>7040.074980</td>\n",
       "      <td>5.000529e+09</td>\n",
       "      <td>2005.063748</td>\n",
       "      <td>5.931251</td>\n",
       "      <td>495.627136</td>\n",
       "      <td>3033.209466</td>\n",
       "      <td>1.920993e+04</td>\n",
       "      <td>10.447977</td>\n",
       "    </tr>\n",
       "    <tr>\n",
       "      <th>min</th>\n",
       "      <td>2011-07-01 00:00:00</td>\n",
       "      <td>2011-07-13 00:00:00</td>\n",
       "      <td>0.000000e+00</td>\n",
       "      <td>0.000000</td>\n",
       "      <td>5.000018e+09</td>\n",
       "      <td>1950.000000</td>\n",
       "      <td>0.000000</td>\n",
       "      <td>0.000000</td>\n",
       "      <td>0.000000</td>\n",
       "      <td>0.000000e+00</td>\n",
       "      <td>0.000000</td>\n",
       "    </tr>\n",
       "    <tr>\n",
       "      <th>25%</th>\n",
       "      <td>2012-08-07 00:00:00</td>\n",
       "      <td>2013-07-10 00:00:00</td>\n",
       "      <td>0.000000e+00</td>\n",
       "      <td>668.900000</td>\n",
       "      <td>5.000176e+09</td>\n",
       "      <td>2000.000000</td>\n",
       "      <td>1.000000</td>\n",
       "      <td>0.000000</td>\n",
       "      <td>200.000000</td>\n",
       "      <td>0.000000e+00</td>\n",
       "      <td>11.000000</td>\n",
       "    </tr>\n",
       "    <tr>\n",
       "      <th>50%</th>\n",
       "      <td>2014-01-01 00:00:00</td>\n",
       "      <td>2014-12-31 00:00:00</td>\n",
       "      <td>1.000000e+05</td>\n",
       "      <td>2700.300000</td>\n",
       "      <td>5.000461e+09</td>\n",
       "      <td>2008.000000</td>\n",
       "      <td>3.000000</td>\n",
       "      <td>6.000000</td>\n",
       "      <td>2446.000000</td>\n",
       "      <td>0.000000e+00</td>\n",
       "      <td>11.000000</td>\n",
       "    </tr>\n",
       "    <tr>\n",
       "      <th>75%</th>\n",
       "      <td>2016-10-23 00:00:00</td>\n",
       "      <td>2017-10-12 00:00:00</td>\n",
       "      <td>7.000000e+05</td>\n",
       "      <td>8793.740000</td>\n",
       "      <td>5.000863e+09</td>\n",
       "      <td>2013.000000</td>\n",
       "      <td>4.000000</td>\n",
       "      <td>32.600000</td>\n",
       "      <td>4164.000000</td>\n",
       "      <td>0.000000e+00</td>\n",
       "      <td>11.000000</td>\n",
       "    </tr>\n",
       "    <tr>\n",
       "      <th>max</th>\n",
       "      <td>2018-06-30 00:00:00</td>\n",
       "      <td>2019-06-29 00:00:00</td>\n",
       "      <td>2.500000e+08</td>\n",
       "      <td>542942.150000</td>\n",
       "      <td>5.001351e+09</td>\n",
       "      <td>2018.000000</td>\n",
       "      <td>199.000000</td>\n",
       "      <td>1000000.000000</td>\n",
       "      <td>20000.000000</td>\n",
       "      <td>1.524458e+08</td>\n",
       "      <td>17.000000</td>\n",
       "    </tr>\n",
       "    <tr>\n",
       "      <th>std</th>\n",
       "      <td>NaN</td>\n",
       "      <td>NaN</td>\n",
       "      <td>9.315477e+05</td>\n",
       "      <td>10616.134041</td>\n",
       "      <td>3.781568e+05</td>\n",
       "      <td>10.497571</td>\n",
       "      <td>13.011068</td>\n",
       "      <td>3964.520421</td>\n",
       "      <td>3420.681396</td>\n",
       "      <td>4.662878e+05</td>\n",
       "      <td>2.206908</td>\n",
       "    </tr>\n",
       "  </tbody>\n",
       "</table>\n",
       "</div>"
      ],
      "text/plain": [
       "                          INSR_BEGIN                       INSR_END  \\\n",
       "count                         508138                         508138   \n",
       "mean   2014-08-09 10:06:36.997666048  2015-07-22 00:48:26.026315520   \n",
       "min              2011-07-01 00:00:00            2011-07-13 00:00:00   \n",
       "25%              2012-08-07 00:00:00            2013-07-10 00:00:00   \n",
       "50%              2014-01-01 00:00:00            2014-12-31 00:00:00   \n",
       "75%              2016-10-23 00:00:00            2017-10-12 00:00:00   \n",
       "max              2018-06-30 00:00:00            2019-06-29 00:00:00   \n",
       "std                              NaN                            NaN   \n",
       "\n",
       "       INSURED_VALUE        PREMIUM     OBJECT_ID      PROD_YEAR  \\\n",
       "count   5.081380e+05  508138.000000  5.081380e+05  508138.000000   \n",
       "mean    4.899990e+05    7040.074980  5.000529e+09    2005.063748   \n",
       "min     0.000000e+00       0.000000  5.000018e+09    1950.000000   \n",
       "25%     0.000000e+00     668.900000  5.000176e+09    2000.000000   \n",
       "50%     1.000000e+05    2700.300000  5.000461e+09    2008.000000   \n",
       "75%     7.000000e+05    8793.740000  5.000863e+09    2013.000000   \n",
       "max     2.500000e+08  542942.150000  5.001351e+09    2018.000000   \n",
       "std     9.315477e+05   10616.134041  3.781568e+05      10.497571   \n",
       "\n",
       "           SEATS_NUM  CARRYING_CAPACITY        CCM_TON    CLAIM_PAID  \\\n",
       "count  508138.000000      385692.000000  508138.000000  5.081380e+05   \n",
       "mean        5.931251         495.627136    3033.209466  1.920993e+04   \n",
       "min         0.000000           0.000000       0.000000  0.000000e+00   \n",
       "25%         1.000000           0.000000     200.000000  0.000000e+00   \n",
       "50%         3.000000           6.000000    2446.000000  0.000000e+00   \n",
       "75%         4.000000          32.600000    4164.000000  0.000000e+00   \n",
       "max       199.000000     1000000.000000   20000.000000  1.524458e+08   \n",
       "std        13.011068        3964.520421    3420.681396  4.662878e+05   \n",
       "\n",
       "         INSR_LENGTH  \n",
       "count  508138.000000  \n",
       "mean       10.447977  \n",
       "min         0.000000  \n",
       "25%        11.000000  \n",
       "50%        11.000000  \n",
       "75%        11.000000  \n",
       "max        17.000000  \n",
       "std         2.206908  "
      ]
     },
     "execution_count": 27,
     "metadata": {},
     "output_type": "execute_result"
    }
   ],
   "source": [
    "# check for inconsistent data\n",
    "vdf.describe()"
   ]
  },
  {
   "cell_type": "markdown",
   "id": "9e8da939-868e-4657-990f-230907ca1df0",
   "metadata": {},
   "source": [
    "Looking at the data, there is some inconsistent data. Some columns have 0 values when they shouldn't, while for others, the 3rd quantile and max values have a wide difference alluding to the existence of outliers."
   ]
  },
  {
   "cell_type": "markdown",
   "id": "f6d5198b-b2a6-4066-aeca-2c4865226778",
   "metadata": {},
   "source": [
    "## 3.4 Dealing with 0 values"
   ]
  },
  {
   "cell_type": "code",
   "execution_count": 28,
   "id": "5ef52329-3be6-40ec-a8fa-e4b7947ceb5a",
   "metadata": {},
   "outputs": [
    {
     "name": "stdout",
     "output_type": "stream",
     "text": [
      "Count of zeros in seats 39464\n",
      "Count of zeros in insured value 231456\n",
      "Count of zeros in premium 23\n",
      "Count of zeros in carrying capacity 152895\n"
     ]
    }
   ],
   "source": [
    "# count how many 0s are in columns\n",
    "seats_zeros = (vdf['SEATS_NUM'] == 0).sum()\n",
    "print('Count of zeros in seats', seats_zeros)\n",
    "\n",
    "insured_value_zeros = (vdf['INSURED_VALUE'] == 0).sum()\n",
    "print('Count of zeros in insured value', insured_value_zeros)\n",
    "\n",
    "premium_zeros = (vdf['PREMIUM'] == 0).sum()\n",
    "print('Count of zeros in premium', premium_zeros)\n",
    "\n",
    "carrying_capacity_zeros = (vdf['CARRYING_CAPACITY'] == 0).sum()\n",
    "print('Count of zeros in carrying capacity', carrying_capacity_zeros)"
   ]
  },
  {
   "cell_type": "markdown",
   "id": "8c43bd90-9c85-484c-b995-598fe189b040",
   "metadata": {},
   "source": [
    "For the premium column, we'll drop the 0s. For the other columns, as there's a large number of 0s, I'll replace it with the median "
   ]
  },
  {
   "cell_type": "code",
   "execution_count": 32,
   "id": "15c9b186-2c3c-4c6f-97ca-e42d99743080",
   "metadata": {},
   "outputs": [],
   "source": [
    "# drop 0s in the premium column\n",
    "vdf = vdf[vdf['PREMIUM'] != 0]"
   ]
  },
  {
   "cell_type": "code",
   "execution_count": 36,
   "id": "d991b5c9-05d2-48c8-a879-b968385a2c52",
   "metadata": {},
   "outputs": [],
   "source": [
    "# replace 0s in the seats_num column with median\n",
    "# Calculate the median of each vehicle type's number of seats\n",
    "median_seats_by_type = vdf.groupby('TYPE_VEHICLE')['SEATS_NUM'].transform('median')[0]\n",
    "\n",
    "# Replace 0 values with the median of each vehicle type\n",
    "vdf['SEATS_NUM'] = vdf['SEATS_NUM'].replace(0, median_seats_by_type)"
   ]
  },
  {
   "cell_type": "code",
   "execution_count": 37,
   "id": "ece99367-d2d1-4064-99bc-ae13a7f33f96",
   "metadata": {},
   "outputs": [],
   "source": [
    "# replace 0s with median in the insured value column\n",
    "# Calculate the median of each vehicle type by make and production year\n",
    "median_insured_value = vdf.groupby(['TYPE_VEHICLE','MAKE', 'PROD_YEAR'])['INSURED_VALUE'].transform('median')[0]\n",
    "\n",
    "# replace the 0s with the median\n",
    "vdf['INSURED_VALUE'] = vdf['INSURED_VALUE'].replace(0, median_insured_value)"
   ]
  },
  {
   "cell_type": "code",
   "execution_count": 38,
   "id": "b53ef70c-2cbd-4008-9e2e-d82331fc831e",
   "metadata": {},
   "outputs": [],
   "source": [
    "# replace the 0s in the carrying capacity column with median\n",
    "# calculate the median of each vehicle type and make\n",
    "median_carrying_capacity = vdf.groupby(['TYPE_VEHICLE','MAKE'])['CARRYING_CAPACITY'].transform('median')[0]\n",
    "\n",
    "# replace 0s with the median\n",
    "vdf['CARRYING_CAPACITY'] = vdf['CARRYING_CAPACITY'].replace(0, median_carrying_capacity)"
   ]
  },
  {
   "cell_type": "code",
   "execution_count": 39,
   "id": "539fca49-707a-421a-aa00-7ad2e325a145",
   "metadata": {},
   "outputs": [
    {
     "name": "stdout",
     "output_type": "stream",
     "text": [
      "Count of zeros in seats 0\n",
      "Count of zeros in insured value 0\n",
      "Count of zeros in premium 0\n",
      "Count of zeros in carrying capacity 0\n"
     ]
    }
   ],
   "source": [
    "# count how many 0s are in columns\n",
    "seats_zeros = (vdf['SEATS_NUM'] == 0).sum()\n",
    "print('Count of zeros in seats', seats_zeros)\n",
    "\n",
    "insured_value_zeros = (vdf['INSURED_VALUE'] == 0).sum()\n",
    "print('Count of zeros in insured value', insured_value_zeros)\n",
    "\n",
    "premium_zeros = (vdf['PREMIUM'] == 0).sum()\n",
    "print('Count of zeros in premium', premium_zeros)\n",
    "\n",
    "carrying_capacity_zeros = (vdf['CARRYING_CAPACITY'] == 0).sum()\n",
    "print('Count of zeros in carrying capacity', carrying_capacity_zeros)"
   ]
  },
  {
   "cell_type": "markdown",
   "id": "35de4f25-70d0-4522-a8b3-1eae555e5584",
   "metadata": {},
   "source": [
    "## 3.5 Handling outliers"
   ]
  },
  {
   "cell_type": "markdown",
   "id": "10b92d50-df7c-49fd-a24f-28d20df263f2",
   "metadata": {},
   "source": [
    "We'll remove outliers using the z-score method"
   ]
  },
  {
   "cell_type": "code",
   "execution_count": 33,
   "id": "1a520dee-8a6d-4d8d-9eb5-40f92ce36814",
   "metadata": {},
   "outputs": [
    {
     "data": {
      "image/png": "[encoded data removed]",
      "text/plain": [
       "<Figure size 640x480 with 1 Axes>"
      ]
     },
     "metadata": {},
     "output_type": "display_data"
    }
   ],
   "source": [
    "# check for outliers in the premium column\n",
    "plt.boxplot(vdf['PREMIUM'])\n",
    "plt.xlabel('Premiums')\n",
    "plt.ylabel('Amount of Premiums')\n",
    "plt.show()"
   ]
  },
  {
   "cell_type": "code",
   "execution_count": 40,
   "id": "02919a26-50b7-4969-a5b8-35e0e65be9bd",
   "metadata": {},
   "outputs": [
    {
     "name": "stdout",
     "output_type": "stream",
     "text": [
      "Before outliers are removed: 508115\n",
      "After outliers are removed: 465889\n"
     ]
    },
    {
     "data": {
      "image/png": "[encoded data removed]",
      "text/plain": [
       "<Figure size 640x480 with 1 Axes>"
      ]
     },
     "metadata": {},
     "output_type": "display_data"
    }
   ],
   "source": [
    "# remove outliers using z score method\n",
    "print('Before outliers are removed:', len(vdf))\n",
    "    \n",
    "# find lower and upper limit\n",
    "lower_limit = vdf['PREMIUM'].mean() - (1.5* vdf['PREMIUM'].std())\n",
    "upper_limit = vdf['PREMIUM'].mean() + (1.5* vdf['PREMIUM'].std())\n",
    "\n",
    "# find outliers\n",
    "vdf_outliers = np.where(vdf['PREMIUM'] > upper_limit, True,\n",
    "                        np.where(vdf['PREMIUM'] < lower_limit, True, False))\n",
    "\n",
    "# remove outliers\n",
    "vdf= vdf.loc[~(vdf_outliers)]\n",
    "\n",
    "print('After outliers are removed:', len(vdf))\n",
    "\n",
    "# plot \n",
    "plt.boxplot(vdf['PREMIUM'])\n",
    "plt.show()"
   ]
  },
  {
   "cell_type": "code",
   "execution_count": 41,
   "id": "cdbba9d2-2eb8-468f-aeb7-b117e21c1ae6",
   "metadata": {},
   "outputs": [
    {
     "data": {
      "image/png": "[encoded data removed]",
      "text/plain": [
       "<Figure size 640x480 with 1 Axes>"
      ]
     },
     "metadata": {},
     "output_type": "display_data"
    }
   ],
   "source": [
    "# check for outliers in the premium column\n",
    "plt.boxplot(vdf['INSURED_VALUE'])\n",
    "plt.xlabel('Insured Value')\n",
    "plt.ylabel('Amount of Insured Value')\n",
    "plt.show()"
   ]
  },
  {
   "cell_type": "code",
   "execution_count": 42,
   "id": "112597e5-e544-4cec-a247-63f0900cddbf",
   "metadata": {},
   "outputs": [
    {
     "name": "stderr",
     "output_type": "stream",
     "text": [
      "C:\\Anaconda\\Lib\\site-packages\\seaborn\\_oldcore.py:1498: FutureWarning: is_categorical_dtype is deprecated and will be removed in a future version. Use isinstance(dtype, CategoricalDtype) instead\n",
      "  if pd.api.types.is_categorical_dtype(vector):\n",
      "C:\\Anaconda\\Lib\\site-packages\\seaborn\\_oldcore.py:1119: FutureWarning: use_inf_as_na option is deprecated and will be removed in a future version. Convert inf values to NaN before operating instead.\n",
      "  with pd.option_context('mode.use_inf_as_na', True):\n"
     ]
    },
    {
     "data": {
      "image/png": "[encoded data removed]",
      "text/plain": [
       "<Figure size 640x480 with 1 Axes>"
      ]
     },
     "metadata": {},
     "output_type": "display_data"
    }
   ],
   "source": [
    "# check the distribution of insured value before removing outliers\n",
    "sns.histplot(data=vdf, x='INSURED_VALUE', bins = 30, kde=True)\n",
    "plt.show()"
   ]
  },
  {
   "cell_type": "code",
   "execution_count": 43,
   "id": "5e1af963-32cc-4798-96ec-ca540cdefd9b",
   "metadata": {},
   "outputs": [
    {
     "name": "stdout",
     "output_type": "stream",
     "text": [
      "Before outliers are removed: 465889\n",
      "After outliers are removed: 443727\n"
     ]
    },
    {
     "data": {
      "image/png": "[encoded data removed]",
      "text/plain": [
       "<Figure size 640x480 with 1 Axes>"
      ]
     },
     "metadata": {},
     "output_type": "display_data"
    }
   ],
   "source": [
    "# remove outliers using z score method\n",
    "print('Before outliers are removed:', len(vdf))\n",
    "\n",
    "# find the lower and upper limit\n",
    "lower_limit = vdf['INSURED_VALUE'].mean() - (1.5 * vdf['INSURED_VALUE'].std())\n",
    "upper_limit = vdf['INSURED_VALUE'].mean() + (1.5 * vdf['INSURED_VALUE'].std())\n",
    "\n",
    "# find the outliers\n",
    "vdf_outliers = np.where(vdf['INSURED_VALUE'] > upper_limit, True,\n",
    "                       np.where(vdf['INSURED_VALUE'] < lower_limit, True, False))\n",
    "\n",
    "# remove outliers\n",
    "vdf = vdf.loc[~(vdf_outliers)]\n",
    "\n",
    "print('After outliers are removed:', len(vdf))\n",
    "\n",
    "# plot\n",
    "plt.boxplot(vdf['INSURED_VALUE'])\n",
    "plt.show()"
   ]
  },
  {
   "cell_type": "code",
   "execution_count": 44,
   "id": "75807f4c-c172-46f2-8e4e-db1039fe69da",
   "metadata": {},
   "outputs": [
    {
     "name": "stderr",
     "output_type": "stream",
     "text": [
      "C:\\Anaconda\\Lib\\site-packages\\seaborn\\_oldcore.py:1498: FutureWarning: is_categorical_dtype is deprecated and will be removed in a future version. Use isinstance(dtype, CategoricalDtype) instead\n",
      "  if pd.api.types.is_categorical_dtype(vector):\n",
      "C:\\Anaconda\\Lib\\site-packages\\seaborn\\_oldcore.py:1119: FutureWarning: use_inf_as_na option is deprecated and will be removed in a future version. Convert inf values to NaN before operating instead.\n",
      "  with pd.option_context('mode.use_inf_as_na', True):\n"
     ]
    },
    {
     "data": {
      "image/png": "[encoded data removed]",
      "text/plain": [
       "<Figure size 640x480 with 1 Axes>"
      ]
     },
     "metadata": {},
     "output_type": "display_data"
    }
   ],
   "source": [
    "# check the distribution of insured value after removing outliers\n",
    "sns.histplot(data=vdf, x='INSURED_VALUE', bins = 30, kde=True)\n",
    "plt.show()"
   ]
  },
  {
   "cell_type": "code",
   "execution_count": 45,
   "id": "238c8a71-9de9-49e7-a88c-e1f55744c107",
   "metadata": {},
   "outputs": [
    {
     "name": "stderr",
     "output_type": "stream",
     "text": [
      "C:\\Anaconda\\Lib\\site-packages\\seaborn\\_oldcore.py:1498: FutureWarning: is_categorical_dtype is deprecated and will be removed in a future version. Use isinstance(dtype, CategoricalDtype) instead\n",
      "  if pd.api.types.is_categorical_dtype(vector):\n",
      "C:\\Anaconda\\Lib\\site-packages\\seaborn\\_oldcore.py:1498: FutureWarning: is_categorical_dtype is deprecated and will be removed in a future version. Use isinstance(dtype, CategoricalDtype) instead\n",
      "  if pd.api.types.is_categorical_dtype(vector):\n",
      "C:\\Anaconda\\Lib\\site-packages\\seaborn\\_oldcore.py:1498: FutureWarning: is_categorical_dtype is deprecated and will be removed in a future version. Use isinstance(dtype, CategoricalDtype) instead\n",
      "  if pd.api.types.is_categorical_dtype(vector):\n"
     ]
    },
    {
     "data": {
      "text/plain": [
       "Text(0.5, 1.0, 'Distribution of carrying capacity per vehicle type')"
      ]
     },
     "execution_count": 45,
     "metadata": {},
     "output_type": "execute_result"
    },
    {
     "data": {
      "image/png": "[encoded data removed]",
      "text/plain": [
       "<Figure size 640x480 with 1 Axes>"
      ]
     },
     "metadata": {},
     "output_type": "display_data"
    }
   ],
   "source": [
    "# check the distribution of carrying capacity per vehicle type\n",
    "sns.boxplot(data = vdf, x='TYPE_VEHICLE', y='CARRYING_CAPACITY')\n",
    "plt.ylabel('Carrying Capacity')\n",
    "plt.xlabel('Vehicle Type')\n",
    "plt.xticks(rotation = 90)\n",
    "plt.title('Distribution of carrying capacity per vehicle type')"
   ]
  },
  {
   "cell_type": "code",
   "execution_count": 46,
   "id": "14d27c33-f64b-4bcd-bda9-e41a4ba5b52a",
   "metadata": {},
   "outputs": [
    {
     "name": "stdout",
     "output_type": "stream",
     "text": [
      "Before the outliers are removed: 443727\n",
      "After the outliers are removed: 438647\n"
     ]
    },
    {
     "name": "stderr",
     "output_type": "stream",
     "text": [
      "C:\\Anaconda\\Lib\\site-packages\\seaborn\\_oldcore.py:1498: FutureWarning: is_categorical_dtype is deprecated and will be removed in a future version. Use isinstance(dtype, CategoricalDtype) instead\n",
      "  if pd.api.types.is_categorical_dtype(vector):\n",
      "C:\\Anaconda\\Lib\\site-packages\\seaborn\\_oldcore.py:1498: FutureWarning: is_categorical_dtype is deprecated and will be removed in a future version. Use isinstance(dtype, CategoricalDtype) instead\n",
      "  if pd.api.types.is_categorical_dtype(vector):\n",
      "C:\\Anaconda\\Lib\\site-packages\\seaborn\\_oldcore.py:1498: FutureWarning: is_categorical_dtype is deprecated and will be removed in a future version. Use isinstance(dtype, CategoricalDtype) instead\n",
      "  if pd.api.types.is_categorical_dtype(vector):\n"
     ]
    },
    {
     "data": {
      "text/plain": [
       "Text(0.5, 1.0, 'Distribution of carrying capacity per vehicle type')"
      ]
     },
     "execution_count": 46,
     "metadata": {},
     "output_type": "execute_result"
    },
    {
     "data": {
      "image/png": "[encoded data removed]",
      "text/plain": [
       "<Figure size 640x480 with 1 Axes>"
      ]
     },
     "metadata": {},
     "output_type": "display_data"
    }
   ],
   "source": [
    "# remove outliers in the carrying capacity column\n",
    "print('Before the outliers are removed:', len(vdf))\n",
    "\n",
    "# find the upper and lower limits\n",
    "lower_limit = vdf['CARRYING_CAPACITY'].mean() - (1.5 * vdf['CARRYING_CAPACITY'].std())\n",
    "upper_limit = vdf['CARRYING_CAPACITY'].mean() + (1.5 * vdf['CARRYING_CAPACITY'].std())\n",
    "\n",
    "# find outliers\n",
    "vdf_outliers = np.where(vdf['CARRYING_CAPACITY'] > upper_limit, True,\n",
    "                       np.where(vdf['CARRYING_CAPACITY'] < lower_limit, True, False))\n",
    "\n",
    "# remove outliers\n",
    "vdf = vdf.loc[~(vdf_outliers)]\n",
    "\n",
    "print('After the outliers are removed:', len(vdf))\n",
    "\n",
    "# plot\n",
    "sns.boxplot(data = vdf, x='TYPE_VEHICLE', y='CARRYING_CAPACITY')\n",
    "plt.ylabel('Carrying Capacity')\n",
    "plt.xlabel('Vehicle Type')\n",
    "plt.xticks(rotation = 90)\n",
    "plt.title('Distribution of carrying capacity per vehicle type')\n",
    "plt.title('Distribution of carrying capacity per vehicle type')"
   ]
  },
  {
   "cell_type": "code",
   "execution_count": 47,
   "id": "8b44efc9-9ed2-498a-b7d5-f0aa74d48f0d",
   "metadata": {},
   "outputs": [
    {
     "name": "stderr",
     "output_type": "stream",
     "text": [
      "C:\\Anaconda\\Lib\\site-packages\\seaborn\\_oldcore.py:1498: FutureWarning: is_categorical_dtype is deprecated and will be removed in a future version. Use isinstance(dtype, CategoricalDtype) instead\n",
      "  if pd.api.types.is_categorical_dtype(vector):\n",
      "C:\\Anaconda\\Lib\\site-packages\\seaborn\\_oldcore.py:1498: FutureWarning: is_categorical_dtype is deprecated and will be removed in a future version. Use isinstance(dtype, CategoricalDtype) instead\n",
      "  if pd.api.types.is_categorical_dtype(vector):\n",
      "C:\\Anaconda\\Lib\\site-packages\\seaborn\\_oldcore.py:1498: FutureWarning: is_categorical_dtype is deprecated and will be removed in a future version. Use isinstance(dtype, CategoricalDtype) instead\n",
      "  if pd.api.types.is_categorical_dtype(vector):\n"
     ]
    },
    {
     "data": {
      "text/plain": [
       "Text(0.5, 1.0, 'Distribution of number of seats per vehicle type')"
      ]
     },
     "execution_count": 47,
     "metadata": {},
     "output_type": "execute_result"
    },
    {
     "data": {
      "image/png": "[encoded data removed]",
      "text/plain": [
       "<Figure size 640x480 with 1 Axes>"
      ]
     },
     "metadata": {},
     "output_type": "display_data"
    }
   ],
   "source": [
    "# check for outliers in number of seats column per vehicle\n",
    "sns.boxplot(data = vdf, x='TYPE_VEHICLE', y='SEATS_NUM')\n",
    "plt.ylabel('Number of seats')\n",
    "plt.xlabel('Vehicle Type')\n",
    "plt.xticks(rotation = 90)\n",
    "plt.title('Distribution of number of seats per vehicle type')"
   ]
  },
  {
   "cell_type": "code",
   "execution_count": 66,
   "id": "0ca1a43a-a4a7-4564-b609-7d5ac9f32ae2",
   "metadata": {},
   "outputs": [
    {
     "name": "stdout",
     "output_type": "stream",
     "text": [
      "Before the outliers are removed: 398525\n",
      "After the outliers are removed: 384652\n"
     ]
    },
    {
     "name": "stderr",
     "output_type": "stream",
     "text": [
      "C:\\Anaconda\\Lib\\site-packages\\seaborn\\_oldcore.py:1498: FutureWarning: is_categorical_dtype is deprecated and will be removed in a future version. Use isinstance(dtype, CategoricalDtype) instead\n",
      "  if pd.api.types.is_categorical_dtype(vector):\n",
      "C:\\Anaconda\\Lib\\site-packages\\seaborn\\_oldcore.py:1498: FutureWarning: is_categorical_dtype is deprecated and will be removed in a future version. Use isinstance(dtype, CategoricalDtype) instead\n",
      "  if pd.api.types.is_categorical_dtype(vector):\n",
      "C:\\Anaconda\\Lib\\site-packages\\seaborn\\_oldcore.py:1498: FutureWarning: is_categorical_dtype is deprecated and will be removed in a future version. Use isinstance(dtype, CategoricalDtype) instead\n",
      "  if pd.api.types.is_categorical_dtype(vector):\n"
     ]
    },
    {
     "data": {
      "text/plain": [
       "Text(0.5, 1.0, 'Distribution of number of seats per vehicle type')"
      ]
     },
     "execution_count": 66,
     "metadata": {},
     "output_type": "execute_result"
    },
    {
     "data": {
      "image/png": "[encoded data removed]",
      "text/plain": [
       "<Figure size 640x480 with 1 Axes>"
      ]
     },
     "metadata": {},
     "output_type": "display_data"
    }
   ],
   "source": [
    "# remove outliers in the number of seats column\n",
    "print('Before the outliers are removed:', len(vdf))\n",
    "\n",
    "# find lower and upper limits\n",
    "lower_limit = vdf['SEATS_NUM'].mean() - (1.5 * vdf['SEATS_NUM'].std())\n",
    "upper_limit = vdf['SEATS_NUM'].mean() + (1.5 * vdf['SEATS_NUM'].std())\n",
    "\n",
    "# find outliers\n",
    "vdf_outliers = np.where(vdf['SEATS_NUM'] > upper_limit, True,\n",
    "                       np.where(vdf['SEATS_NUM'] < lower_limit, True, False))\n",
    "\n",
    "# remove outliers\n",
    "vdf = vdf.loc[~(vdf_outliers)]\n",
    "\n",
    "print('After the outliers are removed:', len(vdf))\n",
    "\n",
    "# plot\n",
    "sns.boxplot(data = vdf, x='TYPE_VEHICLE', y='SEATS_NUM')\n",
    "plt.ylabel('Number of seats')\n",
    "plt.xlabel('Vehicle Type')\n",
    "plt.xticks(rotation = 90)\n",
    "plt.title('Distribution of number of seats per vehicle type')"
   ]
  },
  {
   "cell_type": "markdown",
   "id": "5bf99d93-6ecc-45e7-9f06-577ffcd93062",
   "metadata": {},
   "source": [
    "I'll export the dataset so I can do some EDA and hypothesis testing on R"
   ]
  },
  {
   "cell_type": "code",
   "execution_count": 48,
   "id": "67cd4065-4b41-4331-bd66-5b5c4b1bca62",
   "metadata": {},
   "outputs": [],
   "source": [
    "# export to csv file\n",
    "vdf.to_csv('C:/Users/Skitah Wambui/OneDrive/Desktop/clean_vehicle_insurance_dataset.csv', index = False)"
   ]
  },
  {
   "cell_type": "code",
   "execution_count": null,
   "id": "3b249c8d-a27f-4e97-91e7-4026b329813b",
   "metadata": {},
   "outputs": [],
   "source": []
  }
 ],
 "metadata": {
  "kernelspec": {
   "display_name": "Python 3 (ipykernel)",
   "language": "python",
   "name": "python3"
  },
  "language_info": {
   "codemirror_mode": {
    "name": "ipython",
    "version": 3
   },
   "file_extension": ".py",
   "mimetype": "text/x-python",
   "name": "python",
   "nbconvert_exporter": "python",
   "pygments_lexer": "ipython3",
   "version": "3.11.5"
  }
 },
 "nbformat": 4,
 "nbformat_minor": 5
}
